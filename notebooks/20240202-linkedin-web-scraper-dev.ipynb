{
 "cells": [
  {
   "cell_type": "code",
   "execution_count": 16,
   "metadata": {},
   "outputs": [],
   "source": [
    "%reload_ext autoreload\n",
    "%autoreload 2\n",
    "# imports\n",
    "import time\n",
    "import os\n",
    "import pandas as pd\n",
    "import re\n",
    "from dotenv import find_dotenv, load_dotenv\n",
    "load_dotenv(find_dotenv())\n",
    "from bs4 import BeautifulSoup\n",
    "from selenium import webdriver\n",
    "from selenium.webdriver.common.keys import Keys\n",
    "from selenium.webdriver.common.by import By\n",
    "from selenium.webdriver.support.wait import WebDriverWait\n",
    "from selenium.webdriver.support import expected_conditions as EC\n",
    "from selenium.webdriver.common.action_chains import ActionChains\n"
   ]
  },
  {
   "cell_type": "code",
   "execution_count": 2,
   "metadata": {},
   "outputs": [
    {
     "name": "stdout",
     "output_type": "stream",
     "text": [
      "223\n",
      "0: Junior Data Scientist, 7 hours ago, This is a remote position. Junior Data Scientist (1 year experience, remote)Be part of our future! This job posting builds our talent pool for potential future openings. We'll compare your skills and experience against both current and future needs. If there's a match, we'll contact you directly. No guarantee of immediate placement, and we only consider applications from US/Canada residents during the application process. Hiring Type: Full-Time Base Salary: $60K-$70K Per Annum.Responsibilities:Partner with engineers, product managers, and business partners to identify algorithmic problems, brainstorm possible approaches, and recommend the best path forward. Develop algorithms iteratively, building in the right level of complexity to solve the business problem at hand and support future improvements. Define success criteria for your models so that you can measure impact and changes over time. You'll be expected to communicate findings and drive continuous improvements. Collaborate with Software Engineers to implement algorithms in production that scale gracefully. Collaborate with stakeholders to prioritize projects and define requirements. Carry out analysis of data produced by our hardware systems and create insightful visualizations to share your findings. Contribute to internal libraries to help other teams with their data science needs including visualization, prediction, optimization, and inference. Requirements & Experience:Advanced proficiency with Python and libraries commonly used for data analysis, e.g., Pandas, NumPy, SciPy, and Matplotlib. Strong understanding of data modeling and statistical analysis. Knowledge of optimization and predictive modeling techniques and experience applying them to real-world problems. Skilled at translating a general question or problem into a clearly defined algorithmic solution. Ability to communicate clearly with both technical and non-technical audiences. Ability to work independently and manage multiple projects simultaneously. Nice to haves:1-year Experience with Data Bricks or PySpark 1 year Experience with product ionizing data models, Information Technology, Software Development\n"
     ]
    }
   ],
   "source": [
    "# Open the LinkedIn\n",
    "driver = webdriver.Chrome()\n",
    "\n",
    "# Navigate to Jobs Page\n",
    "try:\n",
    "    job_title = \"Data Scientist\" \n",
    "    job_location =\"United States\"\n",
    "    page_num=0\n",
    "    url = f'https://www.linkedin.com/jobs/search/?keywords={job_title}&location={job_location}&start={page_num}'\n",
    "    driver.get(url)\n",
    "    driver.maximize_window()\n",
    "except Exception as e:\n",
    "    print(e)\n",
    "\n",
    "while True:    \n",
    "    total_jobs = len(driver.find_elements(By.CSS_SELECTOR, \"ul.jobs-search__results-list li\"))\n",
    "    # check if the total jobs shown is over 500\n",
    "    if total_jobs >= 200:\n",
    "        break\n",
    "    \n",
    "    # perform scrolling activity\n",
    "    driver.execute_script(\"window.scrollTo(0, document.body.scrollHeight)\")\n",
    "    \n",
    "    try:\n",
    "        # click the see more jobs if its shown\n",
    "        next=driver.find_element(By.XPATH, \"//button[@aria-label='See more jobs']\")\n",
    "        next.click()\n",
    "        time.sleep(2)\n",
    "    except:\n",
    "        pass\n",
    "\n",
    "jobs  = driver.find_elements(By.CSS_SELECTOR, \"ul.jobs-search__results-list li\")\n",
    "job_titles = []\n",
    "job_posteds = []\n",
    "job_descriptions = []\n",
    "job_functions = []\n",
    "job_industries = []\n",
    "print(len(jobs))\n",
    "for i, job in enumerate(jobs):\n",
    "    try:\n",
    "        print(i, end=\"\\r\")\n",
    "        job.click()\n",
    "        time.sleep(3)\n",
    "        see_more_button = WebDriverWait(driver, 100).until( \n",
    "            EC.presence_of_element_located((By.XPATH, '//button[@aria-label=\"Show more, visually expands previously read content above\"]')) \n",
    "        )\n",
    "        see_more_button.click()\n",
    "        time.sleep(1)\n",
    "        \n",
    "        soup = BeautifulSoup(driver.page_source, \"html.parser\")\n",
    "        job_title_element = soup.find('h2', {'class':'top-card-layout__title'})\n",
    "        if job_title_element is None:\n",
    "            job_titles.append(\"Not Found\")\n",
    "        else:\n",
    "            job_titles.append(job_title_element.text.strip())\n",
    "        \n",
    "        job_posted_element = soup.find('span', {'class':'posted-time-ago__text'})\n",
    "        if job_posted_element is None:\n",
    "            job_posteds.append(\"Not Found\")\n",
    "        else:\n",
    "            job_posteds.append(job_posted_element.text.strip())\n",
    "            \n",
    "        job_description_element = soup.find('div', {'class':'show-more-less-html__markup relative overflow-hidden'})        \n",
    "        if job_description_element is None:\n",
    "            job_descriptions.append(\"Not Found\")\n",
    "        else:\n",
    "            job_description = re.sub(\"<[^>]+>\", \" \", str(job_description_element.text))\n",
    "            job_description = re.sub(\"[ ]+\", \" \", job_description)\n",
    "            job_descriptions.append(job_description)\n",
    "            \n",
    "        job_function = soup.select(\"ul.description__job-criteria-list > li:nth-child(3) > span\")\n",
    "        if job_function is None:\n",
    "            job_functions.append(\"Not Found\")\n",
    "        else:\n",
    "            job_functions.append(job_function[0].text.strip())\n",
    "            \n",
    "        job_industry = soup.select(\"ul.description__job-criteria-list > li:nth-child(4) > span\")\n",
    "        if job_industry is None:\n",
    "            job_industries.append(\"Not Found\")\n",
    "        else:\n",
    "            job_industries.append(job_industry[0].text.strip())\n",
    "        print(f\"{i}: {job_title_element.text.strip()}, {job_posted_element.text.strip()}, {job_description_element.text.strip()}, {job_function[0].text.strip()}, {job_industry[0].text.strip()}\")\n",
    "    except Exception as e:\n",
    "        print(f\"At iteration {i} with error of {e}\")\n",
    "    break"
   ]
  },
  {
   "cell_type": "code",
   "execution_count": 5,
   "metadata": {},
   "outputs": [
    {
     "data": {
      "text/html": [
       "<div>\n",
       "<style scoped>\n",
       "    .dataframe tbody tr th:only-of-type {\n",
       "        vertical-align: middle;\n",
       "    }\n",
       "\n",
       "    .dataframe tbody tr th {\n",
       "        vertical-align: top;\n",
       "    }\n",
       "\n",
       "    .dataframe thead th {\n",
       "        text-align: right;\n",
       "    }\n",
       "</style>\n",
       "<table border=\"1\" class=\"dataframe\">\n",
       "  <thead>\n",
       "    <tr style=\"text-align: right;\">\n",
       "      <th></th>\n",
       "      <th>job_title</th>\n",
       "      <th>job_posted</th>\n",
       "      <th>job_description</th>\n",
       "      <th>job_function</th>\n",
       "      <th>job_industry</th>\n",
       "    </tr>\n",
       "  </thead>\n",
       "  <tbody>\n",
       "    <tr>\n",
       "      <th>0</th>\n",
       "      <td>Junior Data Scientist</td>\n",
       "      <td>7 hours ago</td>\n",
       "      <td>[\\n        This is a remote position., [], [],...</td>\n",
       "      <td>Information Technology</td>\n",
       "      <td>Software Development</td>\n",
       "    </tr>\n",
       "  </tbody>\n",
       "</table>\n",
       "</div>"
      ],
      "text/plain": [
       "               job_title   job_posted  \\\n",
       "0  Junior Data Scientist  7 hours ago   \n",
       "\n",
       "                                     job_description            job_function  \\\n",
       "0  [\\n        This is a remote position., [], [],...  Information Technology   \n",
       "\n",
       "           job_industry  \n",
       "0  Software Development  "
      ]
     },
     "execution_count": 5,
     "metadata": {},
     "output_type": "execute_result"
    }
   ],
   "source": [
    "pd.DataFrame(\n",
    "    {\n",
    "        \"job_title\": job_titles,\n",
    "        \"job_posted\": job_posteds,\n",
    "        \"job_description\": [job_description_element],\n",
    "        \"job_function\": job_functions,\n",
    "        \"job_industry\": job_industries,\n",
    "    }\n",
    ")\n",
    "# .to_csv(\"../data/raw/linkedin_jobs.csv\", index=False)"
   ]
  },
  {
   "cell_type": "code",
   "execution_count": 23,
   "metadata": {},
   "outputs": [
    {
     "data": {
      "text/plain": [
       "\"This is a remote position. Junior Data Scientist (1 year experience, remote) Be part of our future! This job posting builds our talent pool for potential future openings. We'll compare your skills and experience against both current and future needs. If there's a match, we'll contact you directly. No guarantee of immediate placement, and we only consider applications from US/Canada residents during the application process. Hiring Type: Full-Time Base Salary: $60K-$70K Per Annum. Responsibilities: Partner with engineers, product managers, and business partners to identify algorithmic problems, brainstorm possible approaches, and recommend the best path forward. Develop algorithms iteratively, building in the right level of complexity to solve the business problem at hand and support future improvements. Define success criteria for your models so that you can measure impact and changes over time. You'll be expected to communicate findings and drive continuous improvements. Collaborate with Software Engineers to implement algorithms in production that scale gracefully. Collaborate with stakeholders to prioritize projects and define requirements. Carry out analysis of data produced by our hardware systems and create insightful visualizations to share your findings. Contribute to internal libraries to help other teams with their data science needs including visualization, prediction, optimization, and inference. Requirements &amp; Experience: Advanced proficiency with Python and libraries commonly used for data analysis, e.g., Pandas, NumPy, SciPy, and Matplotlib. Strong understanding of data modeling and statistical analysis. Knowledge of optimization and predictive modeling techniques and experience applying them to real-world problems. Skilled at translating a general question or problem into a clearly defined algorithmic solution. Ability to communicate clearly with both technical and non-technical audiences. Ability to work independently and manage multiple projects simultaneously. Nice to haves: 1-year Experience with Data Bricks or PySpark 1 year Experience with product ionizing data models\""
      ]
     },
     "execution_count": 23,
     "metadata": {},
     "output_type": "execute_result"
    }
   ],
   "source": [
    "import re\n",
    "# The regex helps in detecting html tags\n",
    "# 1. The [^>] mean that it matches any character except '>'\n",
    "text = re.sub(\"<[^>]+>\", \" \", str(job_description_element)).strip()\n",
    "re.sub(\"[ ]+\", \" \", text)"
   ]
  }
 ],
 "metadata": {
  "kernelspec": {
   "display_name": "nlp-tools",
   "language": "python",
   "name": "python3"
  },
  "language_info": {
   "codemirror_mode": {
    "name": "ipython",
    "version": 3
   },
   "file_extension": ".py",
   "mimetype": "text/x-python",
   "name": "python",
   "nbconvert_exporter": "python",
   "pygments_lexer": "ipython3",
   "version": "3.10.13"
  }
 },
 "nbformat": 4,
 "nbformat_minor": 2
}
