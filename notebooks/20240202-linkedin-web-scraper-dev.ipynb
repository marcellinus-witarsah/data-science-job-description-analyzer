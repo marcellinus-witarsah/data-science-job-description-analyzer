{
 "cells": [
  {
   "cell_type": "code",
   "execution_count": 1,
   "metadata": {},
   "outputs": [
    {
     "name": "stderr",
     "output_type": "stream",
     "text": [
      "C:\\Users\\USER\\AppData\\Local\\Temp\\ipykernel_14312\\3523112395.py:6: DeprecationWarning: \n",
      "Pyarrow will become a required dependency of pandas in the next major release of pandas (pandas 3.0),\n",
      "(to allow more performant data types, such as the Arrow string type, and better interoperability with other libraries)\n",
      "but was not found to be installed on your system.\n",
      "If this would cause problems for you,\n",
      "please provide us feedback at https://github.com/pandas-dev/pandas/issues/54466\n",
      "        \n",
      "  import pandas as pd\n"
     ]
    }
   ],
   "source": [
    "%reload_ext autoreload\n",
    "%autoreload 2\n",
    "# imports\n",
    "import time\n",
    "import os\n",
    "import pandas as pd\n",
    "from dotenv import find_dotenv, load_dotenv\n",
    "load_dotenv(find_dotenv())\n",
    "from bs4 import BeautifulSoup\n",
    "from selenium import webdriver\n",
    "from selenium.webdriver.common.keys import Keys\n",
    "from selenium.webdriver.common.by import By\n",
    "from selenium.webdriver.support.wait import WebDriverWait\n",
    "from selenium.webdriver.support import expected_conditions as EC"
   ]
  },
  {
   "cell_type": "code",
   "execution_count": 2,
   "metadata": {},
   "outputs": [],
   "source": [
    "# Open the LinkedIn\n",
    "driver = webdriver.Chrome()\n",
    "\n",
    "# Navigate to Jobs Page\n",
    "try:\n",
    "    job_title = \"Data Scientist\" \n",
    "    job_location =\"Indonesia\"\n",
    "    page_num=0\n",
    "    url = f'https://www.linkedin.com/jobs/search/?keywords={job_title}&location={job_location}&start={page_num}'\n",
    "    driver.get(url)\n",
    "    driver.maximize_window()\n",
    "except Exception as e:\n",
    "    print(e)\n",
    "\n",
    "while True:\n",
    "    \n",
    "    total_jobs = len(driver.find_elements(By.XPATH, \"//ul[@class='jobs-search__results-list']//li\"))\n",
    "    # check if the total jobs shown is over 500\n",
    "    if total_jobs >50:\n",
    "        break\n",
    "    \n",
    "    # perform scrolling activity\n",
    "    driver.execute_script(\"window.scrollTo(0, document.body.scrollHeight)\")\n",
    "    \n",
    "    try:\n",
    "        # click the see more jobs if its shown\n",
    "        next=driver.find_element(By.XPATH, \"//button[@aria-label='See more jobs']\")\n",
    "        next.click()\n",
    "        time.sleep(2)\n",
    "    except:\n",
    "        pass\n"
   ]
  },
  {
   "cell_type": "code",
   "execution_count": 13,
   "metadata": {},
   "outputs": [],
   "source": [
    "job_cards = driver.find_elements(By.XPATH, \"//ul[@class='jobs-search__results-list']//li\")\n",
    "job_titles = []\n",
    "job_descriptions = []\n",
    "for job_card in job_cards:\n",
    "    job_card.click()\n",
    "    # time.sleep(1)\n",
    "    try: \n",
    "        # wait 10 seconds before looking for element \n",
    "        element = WebDriverWait(driver, 5).until( \n",
    "            EC.presence_of_element_located((By.XPATH, \"//button[@data-tracking-control-name='public_jobs_show-more-html-btn']\")) \n",
    "        ) \n",
    "        element.click()\n",
    "    except:\n",
    "        pass\n",
    "    # finally: \n",
    "    #     # else quit \n",
    "    #     driver.quit() \n",
    "    # # time.sleep(1)\n",
    "    try:\n",
    "        soup = BeautifulSoup(driver.page_source, \"html.parser\")\n",
    "        job_titles.append(soup.find('h2', {'class':'top-card-layout__title'}).text.strip())\n",
    "        job_descriptions.append(soup.find('div', {'class':'show-more-less-html__markup relative overflow-hidden'}).text.strip())\n",
    "    except:\n",
    "        pass"
   ]
  },
  {
   "cell_type": "code",
   "execution_count": 38,
   "metadata": {},
   "outputs": [
    {
     "data": {
      "text/html": [
       "<div>\n",
       "<style scoped>\n",
       "    .dataframe tbody tr th:only-of-type {\n",
       "        vertical-align: middle;\n",
       "    }\n",
       "\n",
       "    .dataframe tbody tr th {\n",
       "        vertical-align: top;\n",
       "    }\n",
       "\n",
       "    .dataframe thead th {\n",
       "        text-align: right;\n",
       "    }\n",
       "</style>\n",
       "<table border=\"1\" class=\"dataframe\">\n",
       "  <thead>\n",
       "    <tr style=\"text-align: right;\">\n",
       "      <th></th>\n",
       "      <th>job_title</th>\n",
       "      <th>job_description</th>\n",
       "    </tr>\n",
       "  </thead>\n",
       "  <tbody>\n",
       "    <tr>\n",
       "      <th>0</th>\n",
       "      <td>Data Scientist</td>\n",
       "      <td>We are an independent data analytics consultan...</td>\n",
       "    </tr>\n",
       "  </tbody>\n",
       "</table>\n",
       "</div>"
      ],
      "text/plain": [
       "        job_title                                    job_description\n",
       "0  Data Scientist  We are an independent data analytics consultan..."
      ]
     },
     "execution_count": 38,
     "metadata": {},
     "output_type": "execute_result"
    }
   ],
   "source": [
    "pd.DataFrame({\n",
    "    \"job_title\": job_titles,\n",
    "    \"job_description\": job_descriptions,\n",
    "})"
   ]
  },
  {
   "cell_type": "code",
   "execution_count": 10,
   "metadata": {},
   "outputs": [
    {
     "data": {
      "text/plain": [
       "<div class=\"show-more-less-html__markup relative overflow-hidden\">\n",
       "        Who are we?<br/><br/>Amar Bank is one of the most technologically advanced digital banks in Indonesia. Our leading<br/><br/>digital lending product, Tunaiku has the distinction of being the first FinTech product in<br/><br/>Indonesia. We are also the first digital bank on the cloud. As the first profitable digital bank, we<br/><br/>managed to get listed on the Indonesian Stock Exchange.<br/><br/>How did we manage to do that?<br/><br/>We are changing people’s perception of a bank. We believe we are the innovators who combine<br/><br/>customer focus principles with creating technology-based impact. We incorporate freedom and<br/><br/>flexibility as part of our startup working culture DNA to encourage innovation in creating better<br/><br/>financial solutions for the banking industry. We think of ourselves as, ‘A technology company<br/><br/>with a banking license’. For this reason, we ‘Act like a FinTech, and think like a Bank.’<br/><br/>How did it all start?<br/><br/>Founded on March 15, 1991, in Surabaya as PT Anglomas International Bank (Amin Bank), the<br/><br/>bank was acquired by Tolaram Group and transformed to PT Bank Amar Indonesia (Amar Bank)<br/><br/>in 2014. It has then undergone a significant digital transformation to become one of the<br/><br/>country's forerunning fintech institutions through its award-winning digital lending platform,<br/><br/>Tunaiku.<br/><br/>Our philosophy, mission, and vision<br/><br/>Technology must impact lives, must improve lives. We exist to provide banking to those who<br/><br/>‘need’ and not only to those who ‘want’. Services when provided to those who need at the time<br/><br/>of their need brings smiles. Our vision is to bring 200 million smiles.<br/><br/>More about the bank with startup culture environment<br/><br/>Consist of 1000+ people, you will meet people who love to grow, dream big, and actually have<br/><br/>fun at the workplace! We provide a great working environment that pushes people to grow<br/><br/>outside their comfort zone. People with high drive and ambition find us a very attractive place to<br/><br/>work as their career growth matches their own drive and not any staid policies. Thus we hold<br/><br/>the honor of being awarded “Best Place to Work in Indonesia”.<br/><br/>Recently Amar Bank was awarded as Inspirational Brand from APEA (Asia Pacific Enterprise<br/><br/>Awards) 2022. Of course, our innovation won't stop here. So if you would love to be a part of it,<br/><br/>have a growth mindset, and are constantly hungry for challenges, we invite you to join us in our<br/><br/>journey to ‘Impact Lives’.<br/><br/>Join us today and create #unlimitedinnovations!<br/><br/><strong>Responsibilities<br/><br/></strong><ul><li>Data Cleaning and Preprocessing: data cleaning and preprocessing tasks, preparing data for analysis</li><li>Implementation of Models: implementing machine learning models may work on simpler models and have less experience in selecting and fine-tuning them</li><li>Collaboration: work closely with senior team members, learning from them and contributing to projects under guidance</li><li>Documentation: documenting their work, including data processing steps, model implementation, and results<br/><br/><br/></li></ul>Requirements<br/><br/><ul><li>Education: a bachelor's or master's degree in a relevant field such as computer science, statistics, or a related quantitative discipline</li><li>Programming skills: proficiency in programming languages like Python or R</li><li>Basic statistics and mathematics: understanding of basic statistical concepts and mathematical foundations of machine learning</li><li>Tools and Frameworks: familiarity with common data science tools and frameworks</li><li>Communication Skills: ability to communicate findings effectively to both technical and non-technical stakeholders<br/><br/><br/></li></ul>Bonus Point If<br/><br/><ul><li>Prior working experience from banking sector, especially from area of debt collection<br/><br/><br/></li></ul>We exist to innovate and maintain the architecture of Amar Bank's products. As part of our main focus to create through technology we ensure the process and technology we use helps maintain and build human connection at scale.<br/><br/>It’s our job to plan, monitor, and control the technology growth so we can provide a faster, more convenient, and more efficient way of performing business transactions.\n",
       "      </div>"
      ]
     },
     "execution_count": 10,
     "metadata": {},
     "output_type": "execute_result"
    }
   ],
   "source": [
    "soup.find('div', {'class':'show-more-less-html__markup relative overflow-hidden'})"
   ]
  },
  {
   "cell_type": "code",
   "execution_count": 45,
   "metadata": {},
   "outputs": [
    {
     "ename": "StaleElementReferenceException",
     "evalue": "Message: stale element reference: stale element not found\n  (Session info: chrome=121.0.6167.85); For documentation on this error, please visit: https://www.selenium.dev/documentation/webdriver/troubleshooting/errors#stale-element-reference-exception\nStacktrace:\n\tGetHandleVerifier [0x00007FF604F35E42+3538674]\n\t(No symbol) [0x00007FF604B54C02]\n\t(No symbol) [0x00007FF604A05AEB]\n\t(No symbol) [0x00007FF604A1514B]\n\t(No symbol) [0x00007FF604A0B92A]\n\t(No symbol) [0x00007FF604A09D10]\n\t(No symbol) [0x00007FF604A0D150]\n\t(No symbol) [0x00007FF604A0D210]\n\t(No symbol) [0x00007FF604A4DED5]\n\t(No symbol) [0x00007FF604A416D6]\n\t(No symbol) [0x00007FF604A6F0AA]\n\t(No symbol) [0x00007FF604A4124A]\n\t(No symbol) [0x00007FF604A6F2C0]\n\t(No symbol) [0x00007FF604A8BDE3]\n\t(No symbol) [0x00007FF604A6EE53]\n\t(No symbol) [0x00007FF604A3F514]\n\t(No symbol) [0x00007FF604A40631]\n\tGetHandleVerifier [0x00007FF604F66CAD+3738973]\n\tGetHandleVerifier [0x00007FF604FBC506+4089270]\n\tGetHandleVerifier [0x00007FF604FB4823+4057299]\n\tGetHandleVerifier [0x00007FF604C85C49+720121]\n\t(No symbol) [0x00007FF604B6126F]\n\t(No symbol) [0x00007FF604B5C304]\n\t(No symbol) [0x00007FF604B5C432]\n\t(No symbol) [0x00007FF604B4BD04]\n\tBaseThreadInitThunk [0x00007FFC0C2F257D+29]\n\tRtlUserThreadStart [0x00007FFC0D7AAA58+40]\n",
     "output_type": "error",
     "traceback": [
      "\u001b[1;31m---------------------------------------------------------------------------\u001b[0m",
      "\u001b[1;31mStaleElementReferenceException\u001b[0m            Traceback (most recent call last)",
      "Cell \u001b[1;32mIn[45], line 1\u001b[0m\n\u001b[1;32m----> 1\u001b[0m \u001b[43mx\u001b[49m\u001b[38;5;241;43m.\u001b[39;49m\u001b[43mclick\u001b[49m\u001b[43m(\u001b[49m\u001b[43m)\u001b[49m\n",
      "File \u001b[1;32mc:\\Users\\USER\\anaconda3\\envs\\nlp-tools\\lib\\site-packages\\selenium\\webdriver\\remote\\webelement.py:94\u001b[0m, in \u001b[0;36mWebElement.click\u001b[1;34m(self)\u001b[0m\n\u001b[0;32m     92\u001b[0m \u001b[38;5;28;01mdef\u001b[39;00m \u001b[38;5;21mclick\u001b[39m(\u001b[38;5;28mself\u001b[39m) \u001b[38;5;241m-\u001b[39m\u001b[38;5;241m>\u001b[39m \u001b[38;5;28;01mNone\u001b[39;00m:\n\u001b[0;32m     93\u001b[0m \u001b[38;5;250m    \u001b[39m\u001b[38;5;124;03m\"\"\"Clicks the element.\"\"\"\u001b[39;00m\n\u001b[1;32m---> 94\u001b[0m     \u001b[38;5;28;43mself\u001b[39;49m\u001b[38;5;241;43m.\u001b[39;49m\u001b[43m_execute\u001b[49m\u001b[43m(\u001b[49m\u001b[43mCommand\u001b[49m\u001b[38;5;241;43m.\u001b[39;49m\u001b[43mCLICK_ELEMENT\u001b[49m\u001b[43m)\u001b[49m\n",
      "File \u001b[1;32mc:\\Users\\USER\\anaconda3\\envs\\nlp-tools\\lib\\site-packages\\selenium\\webdriver\\remote\\webelement.py:395\u001b[0m, in \u001b[0;36mWebElement._execute\u001b[1;34m(self, command, params)\u001b[0m\n\u001b[0;32m    393\u001b[0m     params \u001b[38;5;241m=\u001b[39m {}\n\u001b[0;32m    394\u001b[0m params[\u001b[38;5;124m\"\u001b[39m\u001b[38;5;124mid\u001b[39m\u001b[38;5;124m\"\u001b[39m] \u001b[38;5;241m=\u001b[39m \u001b[38;5;28mself\u001b[39m\u001b[38;5;241m.\u001b[39m_id\n\u001b[1;32m--> 395\u001b[0m \u001b[38;5;28;01mreturn\u001b[39;00m \u001b[38;5;28;43mself\u001b[39;49m\u001b[38;5;241;43m.\u001b[39;49m\u001b[43m_parent\u001b[49m\u001b[38;5;241;43m.\u001b[39;49m\u001b[43mexecute\u001b[49m\u001b[43m(\u001b[49m\u001b[43mcommand\u001b[49m\u001b[43m,\u001b[49m\u001b[43m \u001b[49m\u001b[43mparams\u001b[49m\u001b[43m)\u001b[49m\n",
      "File \u001b[1;32mc:\\Users\\USER\\anaconda3\\envs\\nlp-tools\\lib\\site-packages\\selenium\\webdriver\\remote\\webdriver.py:347\u001b[0m, in \u001b[0;36mWebDriver.execute\u001b[1;34m(self, driver_command, params)\u001b[0m\n\u001b[0;32m    345\u001b[0m response \u001b[38;5;241m=\u001b[39m \u001b[38;5;28mself\u001b[39m\u001b[38;5;241m.\u001b[39mcommand_executor\u001b[38;5;241m.\u001b[39mexecute(driver_command, params)\n\u001b[0;32m    346\u001b[0m \u001b[38;5;28;01mif\u001b[39;00m response:\n\u001b[1;32m--> 347\u001b[0m     \u001b[38;5;28;43mself\u001b[39;49m\u001b[38;5;241;43m.\u001b[39;49m\u001b[43merror_handler\u001b[49m\u001b[38;5;241;43m.\u001b[39;49m\u001b[43mcheck_response\u001b[49m\u001b[43m(\u001b[49m\u001b[43mresponse\u001b[49m\u001b[43m)\u001b[49m\n\u001b[0;32m    348\u001b[0m     response[\u001b[38;5;124m\"\u001b[39m\u001b[38;5;124mvalue\u001b[39m\u001b[38;5;124m\"\u001b[39m] \u001b[38;5;241m=\u001b[39m \u001b[38;5;28mself\u001b[39m\u001b[38;5;241m.\u001b[39m_unwrap_value(response\u001b[38;5;241m.\u001b[39mget(\u001b[38;5;124m\"\u001b[39m\u001b[38;5;124mvalue\u001b[39m\u001b[38;5;124m\"\u001b[39m, \u001b[38;5;28;01mNone\u001b[39;00m))\n\u001b[0;32m    349\u001b[0m     \u001b[38;5;28;01mreturn\u001b[39;00m response\n",
      "File \u001b[1;32mc:\\Users\\USER\\anaconda3\\envs\\nlp-tools\\lib\\site-packages\\selenium\\webdriver\\remote\\errorhandler.py:229\u001b[0m, in \u001b[0;36mErrorHandler.check_response\u001b[1;34m(self, response)\u001b[0m\n\u001b[0;32m    227\u001b[0m         alert_text \u001b[38;5;241m=\u001b[39m value[\u001b[38;5;124m\"\u001b[39m\u001b[38;5;124malert\u001b[39m\u001b[38;5;124m\"\u001b[39m]\u001b[38;5;241m.\u001b[39mget(\u001b[38;5;124m\"\u001b[39m\u001b[38;5;124mtext\u001b[39m\u001b[38;5;124m\"\u001b[39m)\n\u001b[0;32m    228\u001b[0m     \u001b[38;5;28;01mraise\u001b[39;00m exception_class(message, screen, stacktrace, alert_text)  \u001b[38;5;66;03m# type: ignore[call-arg]  # mypy is not smart enough here\u001b[39;00m\n\u001b[1;32m--> 229\u001b[0m \u001b[38;5;28;01mraise\u001b[39;00m exception_class(message, screen, stacktrace)\n",
      "\u001b[1;31mStaleElementReferenceException\u001b[0m: Message: stale element reference: stale element not found\n  (Session info: chrome=121.0.6167.85); For documentation on this error, please visit: https://www.selenium.dev/documentation/webdriver/troubleshooting/errors#stale-element-reference-exception\nStacktrace:\n\tGetHandleVerifier [0x00007FF604F35E42+3538674]\n\t(No symbol) [0x00007FF604B54C02]\n\t(No symbol) [0x00007FF604A05AEB]\n\t(No symbol) [0x00007FF604A1514B]\n\t(No symbol) [0x00007FF604A0B92A]\n\t(No symbol) [0x00007FF604A09D10]\n\t(No symbol) [0x00007FF604A0D150]\n\t(No symbol) [0x00007FF604A0D210]\n\t(No symbol) [0x00007FF604A4DED5]\n\t(No symbol) [0x00007FF604A416D6]\n\t(No symbol) [0x00007FF604A6F0AA]\n\t(No symbol) [0x00007FF604A4124A]\n\t(No symbol) [0x00007FF604A6F2C0]\n\t(No symbol) [0x00007FF604A8BDE3]\n\t(No symbol) [0x00007FF604A6EE53]\n\t(No symbol) [0x00007FF604A3F514]\n\t(No symbol) [0x00007FF604A40631]\n\tGetHandleVerifier [0x00007FF604F66CAD+3738973]\n\tGetHandleVerifier [0x00007FF604FBC506+4089270]\n\tGetHandleVerifier [0x00007FF604FB4823+4057299]\n\tGetHandleVerifier [0x00007FF604C85C49+720121]\n\t(No symbol) [0x00007FF604B6126F]\n\t(No symbol) [0x00007FF604B5C304]\n\t(No symbol) [0x00007FF604B5C432]\n\t(No symbol) [0x00007FF604B4BD04]\n\tBaseThreadInitThunk [0x00007FFC0C2F257D+29]\n\tRtlUserThreadStart [0x00007FFC0D7AAA58+40]\n"
     ]
    }
   ],
   "source": [
    "x.click()"
   ]
  },
  {
   "cell_type": "code",
   "execution_count": 20,
   "metadata": {},
   "outputs": [
    {
     "data": {
      "text/plain": [
       "\"Company DescriptionWe’re in tune with what the world is buying. If you can think of it, we’re measuring it. We sift through the small stuff and piece together big pictures to provide a comprehensive understanding of what’s happening now and what’s coming next for our clients. Today’s data is tomorrow’s marketplace revelation. We like to be in the middle of the action. That’s why you can find us at work in over 90 countries. From global industry leaders to small businesses, consumer goods manufacturers to retailers, we work with them all. We’re bringing in data 24/7 and the possibilities are endless.Job DescriptionOwn Data Science solutions for client requests and provide initial recommendations for complex client raised issuesSupport Internal and External Clients with the understanding of Data Science design and methodologyAccompanied senior leaders meet with clients to understand business needs and help offer innovative solutionsWork on creating new solutions, use cases, proof of concept and prototypes by exploring diverse data sets using tools such as python/rUnderstand Nielsen products and services to suggest new solutions for client challengesCollaborate with other Data Science team unitsAutomate and develop solutions for existing processesInnovate and create out of the box solutions by leveraging large and diverse data sets and state of the art technologiesQualificationsProfessionals with degrees in Maths, Data Science, Statistics, or related fields involving statistics.0-3 years of experience in market research or relevant fields.Passionate about innovation and technology.Problem-Solving skills.Ability to effectively convey complex concepts to non-experts.Intellectual curiosity and persistence to find answers to questions.Eager to continuously learn and adapt to changing technologies and tools.Good command of written and spoken English.Good collaborative and interpersonal skills to communicate at all levels.Working knowledge with data visualization tools (e.g. Spotfire, Tableau, etc) and mapping tools.Working knowledge with collaboration tools such as Google Suite(Googlesite, Google Data Studio), Atlassian, Git, Bitbucket and Confluence.Familiar with Machine LearningFamiliarity with marketing analytics, including designing experiments and consumer behavior analysis.Additional InformationAs the world's largest research organization, Nielsen IQ is powered by talented creative scientists. Our Data Scientist Business Leaders come from diverse disciplines such as statistics, research methodology, mathematics, psychology, business, engineering, physics and demography. These professionals drive innovation, new product ideation, develops complex analysis and delivery of data insights to measure what consumers buyAbout NIQNIQ is the world’s leading consumer intelligence company, delivering the most complete understanding of consumer buying behavior and revealing new pathways to growth. In 2023, NIQ combined with GfK, bringing together the two industry leaders with unparalleled global reach. With a holistic retail read and the most comprehensive consumer insights—delivered with advanced analytics through state-of-the-art platforms—NIQ delivers the Full View™.NIQ, is an Advent International portfolio company with operations in 100+ markets, covering more than 90% of the world’s population. For more information, visit NIQ.com.Want to keep up with our latest updates?Follow us on: LinkedIn | Instagram | Twitter | FacebookOur commitment to Diversity, Equity, and InclusionNIQ is committed to reflecting the diversity of the clients, communities, and markets we measure within our own workforce. We exist to count everyone and are on a mission to systematically embed inclusion and diversity into all aspects of our workforce, measurement, and products. We enthusiastically invite candidates who share that mission to join us.We are proud to be an Equal Opportunity/Affirmative Action-Employer, making decisions without regard to race, color, religion, gender, gender identity or expression, sexual orientation, national origin, genetics, disability status, age, marital status, protected veteran status or any other protected class. Our global non-discrimination policy covers these protected classes in every market in which we do business worldwide.Learn more about how we are driving diversity and inclusion in everything we do by visiting the NielsenIQ News Center: https://nielseniq.com/global/en/news-center/diversity-inclusion/NIQ or any of our subsidiaries will never ask you for money at any point of the recruitment or onboarding process.\""
      ]
     },
     "execution_count": 20,
     "metadata": {},
     "output_type": "execute_result"
    }
   ],
   "source": [
    "soup = BeautifulSoup(driver.page_source, \"html.parser\")\n",
    "soup.find('h2', {'class':'top-card-layout__title'}).text.strip()\n",
    "soup.find('span', {'class':'posted-time-ago__text'}).text.strip()\n",
    "soup.find('div', {'class':'show-more-less-html__markup relative overflow-hidden'}).text.strip()"
   ]
  }
 ],
 "metadata": {
  "kernelspec": {
   "display_name": "nlp-tools",
   "language": "python",
   "name": "python3"
  },
  "language_info": {
   "codemirror_mode": {
    "name": "ipython",
    "version": 3
   },
   "file_extension": ".py",
   "mimetype": "text/x-python",
   "name": "python",
   "nbconvert_exporter": "python",
   "pygments_lexer": "ipython3",
   "version": "3.10.13"
  }
 },
 "nbformat": 4,
 "nbformat_minor": 2
}
