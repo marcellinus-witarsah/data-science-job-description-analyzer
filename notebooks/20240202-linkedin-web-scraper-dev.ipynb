{
 "cells": [
  {
   "cell_type": "code",
   "execution_count": 55,
   "metadata": {},
   "outputs": [],
   "source": [
    "import time\n",
    "import os\n",
    "from dotenv import find_dotenv, load_dotenv\n",
    "load_dotenv(find_dotenv())\n",
    "from bs4 import BeautifulSoup\n",
    "from selenium import webdriver\n",
    "from selenium.webdriver.common.keys import Keys\n",
    "from selenium.webdriver.common.by import By\n",
    "from selenium.webdriver.support.wait import WebDriverWait\n",
    "from selenium.webdriver.support import expected_conditions as EC\n",
    "\n",
    "# class LinkedInJobSearchScraper:\n",
    "#     def __init__(self, link: str) -> None:\n",
    "#         # Open the LinkedIn\n",
    "#         self.driver = webdriver.Chrome()\n",
    "#         # driver.get(\"https://www.linkedin.com\")\n",
    "#         self.driver.get(link)\n",
    "    \n",
    "#     def login(self, account: str, password: str) -> None:\n",
    "#         # Login Page\n",
    "#         # Wait until the element existed\n",
    "#         try:\n",
    "#             email_text_box = WebDriverWait(self.driver, 10).until(\n",
    "#                 EC.presence_of_element_located((By.ID, \"session_key\"))\n",
    "#             )  # find the account text box\n",
    "#             password_text_box = WebDriverWait(self.driver, 10).until(\n",
    "#                 EC.presence_of_element_located((By.ID, \"session_password\"))\n",
    "#             )  # find the password text box\n",
    "#             submit_button = WebDriverWait(self.driver, 10).until(\n",
    "#                 EC.presence_of_element_located((By.CSS_SELECTOR, \"[data-id='sign-in-form__submit-btn']\"))\n",
    "#             )  # find submit button\n",
    "#             email_text_box.send_keys(os.getenv(\"LINKEDIN_EMAIL\"))  # fill account name\n",
    "#             password_text_box.send_keys(os.getenv(\"LINKEDIN_PASSWORD\"))  # fill  password\n",
    "#             password_text_box.send_keys(Keys.ENTER)\n",
    "#         except Exception as e:\n",
    "#             print(e)\n",
    "    \n",
    "#     def navigate_to_jobs_search_page(self, job_title: str, job_location: str=\"Indonesia\"):\n",
    "#         try:\n",
    "#             page_num=0\n",
    "#             url = f'https://www.linkedin.com/jobs/search/?keywords={job_title}&location={job_location}&start={page_num}'\n",
    "#             self.driver.get(url)\n",
    "#         except Exception as e:\n",
    "#             print(e)\n",
    "\n",
    "#     # def search_jobs(self, job_title: str, job_location: str=\"Indonesia\"):\n",
    "#     #     try:\n",
    "#     #         job_search_bar = WebDriverWait(self.driver, 10).until(\n",
    "#     #             EC.presence_of_element_located((By.CSS_SELECTOR, \"[placeholder='Search by title, skill, or company']\"))\n",
    "#     #         )  # find the job search box\n",
    "#     #         # job_search_bar.click()\n",
    "#     #         # job_location_bar = WebDriverWait(self.driver, 10).until(\n",
    "#     #         #     EC.presence_of_element_located((By.ID, \"job-search-bar-location\"))\n",
    "#     #         # )  # find the job location box\n",
    "#     #         # submit_button = WebDriverWait(self.driver, 10).until(\n",
    "#     #         #     EC.presence_of_element_located((By.CSS_SELECTOR, \"[data-tracking-control-name='public_jobs_jobs-search-bar_base-search-bar-search-submit']\"))\n",
    "#     #         # )  # find search button\n",
    "#     #         # job_search_bar.clear()\n",
    "#     #         # job_search_bar.send_keys(job_title)  # fill account name\n",
    "#     #         # job_location_bar.clear()\n",
    "#     #         # job_location_bar.send_keys(job_location)  # fill  password\n",
    "#     #         # search_button.click()  # click submit button\n",
    "#     #     except Exception as e:\n",
    "#     #         print(e)\n",
    "    \n",
    "\n",
    "# scraper = LinkedInJobSearchScraper(link=\"https://www.linkedin.com\")\n",
    "# scraper.login(os.getenv(\"LINKEDIN_ACCOUNT\"), os.getenv(\"LINKEDIN_PASSWORD\"))\n",
    "# scraper.navigate_to_jobs_search_page(\"Data Scientist\")"
   ]
  },
  {
   "cell_type": "code",
   "execution_count": 54,
   "metadata": {},
   "outputs": [
    {
     "ename": "NameError",
     "evalue": "name 'BeautifulSoup' is not defined",
     "output_type": "error",
     "traceback": [
      "\u001b[1;31m---------------------------------------------------------------------------\u001b[0m",
      "\u001b[1;31mNameError\u001b[0m                                 Traceback (most recent call last)",
      "Cell \u001b[1;32mIn[54], line 37\u001b[0m\n\u001b[0;32m     33\u001b[0m     \u001b[38;5;28mprint\u001b[39m(e)\n\u001b[0;32m     35\u001b[0m driver\u001b[38;5;241m.\u001b[39mimplicitly_wait(\u001b[38;5;241m5\u001b[39m)\n\u001b[1;32m---> 37\u001b[0m soup \u001b[38;5;241m=\u001b[39m \u001b[43mBeautifulSoup\u001b[49m(driver\u001b[38;5;241m.\u001b[39mpage_source, \u001b[38;5;124m'\u001b[39m\u001b[38;5;124mhtml.parser\u001b[39m\u001b[38;5;124m'\u001b[39m)\n\u001b[0;32m     38\u001b[0m \u001b[38;5;66;03m# # Scroll through the jobs list making sure that all of the jobs are loaded\u001b[39;00m\n\u001b[0;32m     39\u001b[0m \u001b[38;5;66;03m# last_height = driver.execute_script('return document.body.scrollHeight')\u001b[39;00m\n\u001b[0;32m     40\u001b[0m \u001b[38;5;66;03m# while True:\u001b[39;00m\n\u001b[1;32m   (...)\u001b[0m\n\u001b[0;32m     46\u001b[0m \n\u001b[0;32m     47\u001b[0m \u001b[38;5;66;03m# time.sleep(20)  # Wait for 20 seconds\u001b[39;00m\n",
      "\u001b[1;31mNameError\u001b[0m: name 'BeautifulSoup' is not defined"
     ]
    }
   ],
   "source": [
    "# Open the LinkedIn\n",
    "driver = webdriver.Chrome()\n",
    "driver.get(\"https://www.linkedin.com\")\n",
    "# driver.get(link)\n",
    "\n",
    "# Login\n",
    "try:\n",
    "    email_text_box = WebDriverWait(driver, 10).until(\n",
    "        EC.presence_of_element_located((By.ID, \"session_key\"))\n",
    "    )  # find the account text box\n",
    "    password_text_box = WebDriverWait(driver, 10).until(\n",
    "        EC.presence_of_element_located((By.ID, \"session_password\"))\n",
    "    )  # find the password text box\n",
    "    submit_button = WebDriverWait(driver, 10).until(\n",
    "        EC.presence_of_element_located((By.CSS_SELECTOR, \"[data-id='sign-in-form__submit-btn']\"))\n",
    "    )  # find submit button\n",
    "    email_text_box.send_keys(os.getenv(\"LINKEDIN_EMAIL\"))  # fill account name\n",
    "    password_text_box.send_keys(os.getenv(\"LINKEDIN_PASSWORD\"))  # fill  password\n",
    "    password_text_box.send_keys(Keys.ENTER)\n",
    "except Exception as e:\n",
    "    print(e)\n",
    "\n",
    "\n",
    "# Navigate to Jobs Page\n",
    "try:\n",
    "    job_title = \"Data Scientist\" \n",
    "    job_location =\"Indonesia\"\n",
    "    page_num=0\n",
    "    url = f'https://www.linkedin.com/jobs/search/?keywords={job_title}&location={job_location}&start={page_num}'\n",
    "    driver.get(url)\n",
    "except Exception as e:\n",
    "    print(e)\n",
    "\n",
    "# click on every jobs title links (using for loop)\n",
    "# using the beautiful soup to parse html \n",
    "\n",
    "soup = BeautifulSoup(driver.page_source, 'html.parser')\n",
    "# # Scroll through the jobs list making sure that all of the jobs are loaded\n",
    "# last_height = driver.execute_script('return document.body.scrollHeight')\n",
    "# while True:\n",
    "#     driver.execute_script('window.scrollTo(0, document.body.scrollHeight);')\n",
    "#     new_height = driver.execute_script('return document.body.scrollHeight')\n",
    "#     if new_height == last_height:\n",
    "#         break\n",
    "#     last_height = new_height\n",
    "\n",
    "# time.sleep(20)  # Wait for 20 seconds"
   ]
  },
  {
   "cell_type": "code",
   "execution_count": 56,
   "metadata": {},
   "outputs": [],
   "source": [
    "soup = BeautifulSoup(driver.page_source, 'html.parser')\n"
   ]
  },
  {
   "cell_type": "code",
   "execution_count": 63,
   "metadata": {},
   "outputs": [],
   "source": [
    "job_postings = soup.find_all('li', {'class': 'jobs-search-results__list-item'})\n",
    "\n",
    "# # Extract relevant information from each job posting and store it in a list of dictionaries\n",
    "# data = []\n",
    "# for job_posting in job_postings:\n",
    "#     try:\n",
    "#         job_title = job_posting.find('a', class_='job-card-list__title').get_text().strip()\n",
    "#     except AttributeError:\n",
    "#         job_title = None\n",
    "\n",
    "#     try:\n",
    "#         company_name = job_posting.find('a', class_='job-card-container__link').get_text().strip()\n",
    "#     except AttributeError:\n",
    "#         company_name = None\n",
    "\n",
    "#     try:\n",
    "#         location = job_posting.find('li', class_='job-card-container__metadata-item').get_text().strip()\n",
    "#     except AttributeError:\n",
    "#         location = None\n",
    "\n",
    "#     data.append({\n",
    "#         'Job Title': job_title,\n",
    "#         'Company Name': company_name,\n",
    "#         'Location': location\n",
    "#     })"
   ]
  },
  {
   "cell_type": "code",
   "execution_count": null,
   "metadata": {},
   "outputs": [],
   "source": [
    "print(soup.select_one(\"div p:nth-of-type(2)\")"
   ]
  },
  {
   "cell_type": "code",
   "execution_count": 90,
   "metadata": {},
   "outputs": [
    {
     "data": {
      "text/plain": [
       "'/jobs/view/3736670007/?eBP=CwEAAAGNaPSVXjGpd1_alEXIC5jGEbnCCJAB0qfKa_uvVPHiZmrfURj3A8AZ9t2yV1xtshMy3IEFnV-h7GcWoqZgFdjw6xpG4WZSjwV7QX187NH_6JxIRje6qT8Q9l4vkBb7W2nTiclWPZFOR60KWyLLuHiPcOmkSo6HpxggeBviPR2FRY0_gYCk85ZQvC49sB0b_S60bvu2rfXJqsOF1ywzXPb93RiCkQAwB8JUUpU6WjJP4yhybrnSslbrgr15_EfjqtKXEMD4CkWaLE0DGkJE1ugeERnAe28HVu7Ty6J_LTAsHd4hrtZXQYfe8fj9v0PYPaZvAEX6GOcD6cWqIwvzi6HZg7XwOVcGk4RDavK6Z7ahcZ5osSjjRJ0raT91AK2JwKEQTAk&refId=Kdqc2mjn31vuBZu2l8EW0w%3D%3D&trackingId=uu4dp13hBbdK%2FDdou3r53A%3D%3D&trk=flagship3_search_srp_jobs'"
      ]
     },
     "execution_count": 90,
     "metadata": {},
     "output_type": "execute_result"
    }
   ],
   "source": [
    "job_postings[0].select('div > div:nth-of-type(1) > div:nth-of-type(1) > div:nth-of-type(2) a')[0].get('href')"
   ]
  },
  {
   "cell_type": "code",
   "execution_count": 62,
   "metadata": {},
   "outputs": [
    {
     "data": {
      "text/plain": [
       "[{'Job Title': 'Lead Data Scientist (Bangkok based, relocation provided)',\n",
       "  'Company Name': 'Lead Data Scientist (Bangkok based, relocation provided)',\n",
       "  'Location': 'Jakarta Metropolitan Area (Hybrid)'},\n",
       " {'Job Title': 'Senior Data Scientist',\n",
       "  'Company Name': 'Senior Data Scientist',\n",
       "  'Location': 'Jakarta, Jakarta, Indonesia (On-site)'},\n",
       " {'Job Title': 'Startup Founder - Data Scientist',\n",
       "  'Company Name': 'Startup Founder - Data Scientist',\n",
       "  'Location': 'Jakarta, Indonesia (Hybrid)'},\n",
       " {'Job Title': 'Senior Data Analyst',\n",
       "  'Company Name': 'Senior Data Analyst',\n",
       "  'Location': 'Jakarta, Indonesia (On-site)'},\n",
       " {'Job Title': 'Data Scientist',\n",
       "  'Company Name': 'Data Scientist',\n",
       "  'Location': 'Jakarta Metropolitan Area (On-site)'},\n",
       " {'Job Title': 'Data Science Lead, Visa Consulting & Analytics, Indonesia',\n",
       "  'Company Name': 'Data Science Lead, Visa Consulting & Analytics, Indonesia',\n",
       "  'Location': 'Jakarta Metropolitan Area'},\n",
       " {'Job Title': 'Data Scientist - Risk Platform',\n",
       "  'Company Name': 'Data Scientist - Risk Platform',\n",
       "  'Location': 'Jakarta Metropolitan Area (On-site)'},\n",
       " {'Job Title': None, 'Company Name': None, 'Location': None},\n",
       " {'Job Title': None, 'Company Name': None, 'Location': None},\n",
       " {'Job Title': None, 'Company Name': None, 'Location': None},\n",
       " {'Job Title': None, 'Company Name': None, 'Location': None},\n",
       " {'Job Title': None, 'Company Name': None, 'Location': None},\n",
       " {'Job Title': None, 'Company Name': None, 'Location': None},\n",
       " {'Job Title': None, 'Company Name': None, 'Location': None},\n",
       " {'Job Title': None, 'Company Name': None, 'Location': None},\n",
       " {'Job Title': None, 'Company Name': None, 'Location': None},\n",
       " {'Job Title': None, 'Company Name': None, 'Location': None},\n",
       " {'Job Title': None, 'Company Name': None, 'Location': None},\n",
       " {'Job Title': None, 'Company Name': None, 'Location': None},\n",
       " {'Job Title': None, 'Company Name': None, 'Location': None},\n",
       " {'Job Title': None, 'Company Name': None, 'Location': None},\n",
       " {'Job Title': None, 'Company Name': None, 'Location': None},\n",
       " {'Job Title': None, 'Company Name': None, 'Location': None},\n",
       " {'Job Title': None, 'Company Name': None, 'Location': None},\n",
       " {'Job Title': None, 'Company Name': None, 'Location': None}]"
      ]
     },
     "execution_count": 62,
     "metadata": {},
     "output_type": "execute_result"
    }
   ],
   "source": [
    "data"
   ]
  }
 ],
 "metadata": {
  "kernelspec": {
   "display_name": "nlp-tools",
   "language": "python",
   "name": "python3"
  },
  "language_info": {
   "codemirror_mode": {
    "name": "ipython",
    "version": 3
   },
   "file_extension": ".py",
   "mimetype": "text/x-python",
   "name": "python",
   "nbconvert_exporter": "python",
   "pygments_lexer": "ipython3",
   "version": "3.10.13"
  }
 },
 "nbformat": 4,
 "nbformat_minor": 2
}
