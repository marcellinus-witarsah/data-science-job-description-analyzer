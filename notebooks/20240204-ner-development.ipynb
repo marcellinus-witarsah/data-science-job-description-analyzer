{
 "cells": [
  {
   "cell_type": "code",
   "execution_count": 21,
   "metadata": {},
   "outputs": [],
   "source": [
    "import pandas as pd\n",
    "import re\n",
    "import spacy\n",
    "from tqdm import tqdm"
   ]
  },
  {
   "cell_type": "code",
   "execution_count": 22,
   "metadata": {},
   "outputs": [
    {
     "data": {
      "text/html": [
       "<div>\n",
       "<style scoped>\n",
       "    .dataframe tbody tr th:only-of-type {\n",
       "        vertical-align: middle;\n",
       "    }\n",
       "\n",
       "    .dataframe tbody tr th {\n",
       "        vertical-align: top;\n",
       "    }\n",
       "\n",
       "    .dataframe thead th {\n",
       "        text-align: right;\n",
       "    }\n",
       "</style>\n",
       "<table border=\"1\" class=\"dataframe\">\n",
       "  <thead>\n",
       "    <tr style=\"text-align: right;\">\n",
       "      <th></th>\n",
       "      <th>job_title</th>\n",
       "      <th>job_post</th>\n",
       "      <th>job_description</th>\n",
       "      <th>job_function</th>\n",
       "      <th>job_industry</th>\n",
       "    </tr>\n",
       "  </thead>\n",
       "  <tbody>\n",
       "    <tr>\n",
       "      <th>0</th>\n",
       "      <td>AI Research Scientist I</td>\n",
       "      <td>10 hours ago</td>\n",
       "      <td>Company Overview1910 Genetics is the only comp...</td>\n",
       "      <td>Engineering and Information Technology</td>\n",
       "      <td>Biotechnology Research</td>\n",
       "    </tr>\n",
       "    <tr>\n",
       "      <th>1</th>\n",
       "      <td>Data Scientist(Remote) - Junior/Entry Level</td>\n",
       "      <td>4 hours ago</td>\n",
       "      <td>The Job Market is Challenging due to more than...</td>\n",
       "      <td>Information Technology</td>\n",
       "      <td>IT Services and IT Consulting</td>\n",
       "    </tr>\n",
       "    <tr>\n",
       "      <th>2</th>\n",
       "      <td>Data Scientist (Entry Level)</td>\n",
       "      <td>1 week ago</td>\n",
       "      <td>The world's largest Cruise Line is seeking a D...</td>\n",
       "      <td>Information Technology</td>\n",
       "      <td>Staffing and Recruiting</td>\n",
       "    </tr>\n",
       "    <tr>\n",
       "      <th>3</th>\n",
       "      <td>data scientist</td>\n",
       "      <td>9 hours ago</td>\n",
       "      <td>Now Brewing – Data Scientist #tobeapartnerFrom...</td>\n",
       "      <td>Management and Strategy/Planning</td>\n",
       "      <td>Food and Beverage Services, Manufacturing, and...</td>\n",
       "    </tr>\n",
       "    <tr>\n",
       "      <th>4</th>\n",
       "      <td>Junior Data Scientist</td>\n",
       "      <td>6 hours ago</td>\n",
       "      <td>This is a remote position. Junior Data Scienti...</td>\n",
       "      <td>Information Technology</td>\n",
       "      <td>Software Development</td>\n",
       "    </tr>\n",
       "  </tbody>\n",
       "</table>\n",
       "</div>"
      ],
      "text/plain": [
       "                                     job_title      job_post  \\\n",
       "0                      AI Research Scientist I  10 hours ago   \n",
       "1  Data Scientist(Remote) - Junior/Entry Level   4 hours ago   \n",
       "2                 Data Scientist (Entry Level)    1 week ago   \n",
       "3                               data scientist   9 hours ago   \n",
       "4                        Junior Data Scientist   6 hours ago   \n",
       "\n",
       "                                     job_description  \\\n",
       "0  Company Overview1910 Genetics is the only comp...   \n",
       "1  The Job Market is Challenging due to more than...   \n",
       "2  The world's largest Cruise Line is seeking a D...   \n",
       "3  Now Brewing – Data Scientist #tobeapartnerFrom...   \n",
       "4  This is a remote position. Junior Data Scienti...   \n",
       "\n",
       "                             job_function  \\\n",
       "0  Engineering and Information Technology   \n",
       "1                  Information Technology   \n",
       "2                  Information Technology   \n",
       "3        Management and Strategy/Planning   \n",
       "4                  Information Technology   \n",
       "\n",
       "                                        job_industry  \n",
       "0                             Biotechnology Research  \n",
       "1                      IT Services and IT Consulting  \n",
       "2                            Staffing and Recruiting  \n",
       "3  Food and Beverage Services, Manufacturing, and...  \n",
       "4                               Software Development  "
      ]
     },
     "execution_count": 22,
     "metadata": {},
     "output_type": "execute_result"
    }
   ],
   "source": [
    "# Load data\n",
    "df = pd.read_csv(\"../data/raw/linkedin_jobs.csv\")\n",
    "df = df.drop_duplicates().reset_index(drop=True)\n",
    "df.head()"
   ]
  },
  {
   "cell_type": "code",
   "execution_count": 20,
   "metadata": {},
   "outputs": [
    {
     "name": "stderr",
     "output_type": "stream",
     "text": [
      "20it [00:00, 42.34it/s]\n"
     ]
    }
   ],
   "source": [
    "nlp = spacy.load(\"en_core_web_sm\")\n",
    "disabled_pipes = [pipe for pipe in nlp.pipe_names if pipe not in ['tokenizer', 'tagger', 'lemmatizer', 'attribute_ruler']]\n",
    "for pipe in disabled_pipes:\n",
    "    nlp.disable_pipe(pipe)\n",
    "\n",
    "# Text Preprocessing\n",
    "# 1. Remove Stop Words and Punctuations\n",
    "def preprocess_text(text):\n",
    "    doc = nlp(text)\n",
    "    return \" \".join([word.lemma_ for word in doc if not word.is_stop and word.is_alpha])\n",
    "\n",
    "texts = []\n",
    "for i, row in tqdm(df.iterrows()):\n",
    "    if i == 20:\n",
    "        break\n",
    "    texts.append(preprocess_text(row['job_description'])+\"\\n\")\n",
    "\n",
    "\n",
    "with open(\"../data/interim/jobs.txt\", \"w\") as f:\n",
    "    f.writelines(texts)"
   ]
  },
  {
   "cell_type": "code",
   "execution_count": 13,
   "metadata": {},
   "outputs": [
    {
     "data": {
      "text/html": [
       "<div>\n",
       "<style scoped>\n",
       "    .dataframe tbody tr th:only-of-type {\n",
       "        vertical-align: middle;\n",
       "    }\n",
       "\n",
       "    .dataframe tbody tr th {\n",
       "        vertical-align: top;\n",
       "    }\n",
       "\n",
       "    .dataframe thead th {\n",
       "        text-align: right;\n",
       "    }\n",
       "</style>\n",
       "<table border=\"1\" class=\"dataframe\">\n",
       "  <thead>\n",
       "    <tr style=\"text-align: right;\">\n",
       "      <th></th>\n",
       "      <th>job_title</th>\n",
       "      <th>job_post</th>\n",
       "      <th>job_description</th>\n",
       "      <th>job_function</th>\n",
       "      <th>job_industry</th>\n",
       "    </tr>\n",
       "  </thead>\n",
       "  <tbody>\n",
       "    <tr>\n",
       "      <th>0</th>\n",
       "      <td>Machine Learning Engineer</td>\n",
       "      <td>3 hours ago</td>\n",
       "      <td>All below skills are must have skills: Experie...</td>\n",
       "      <td>Information Technology</td>\n",
       "      <td>Information Services and Technology, Informati...</td>\n",
       "    </tr>\n",
       "    <tr>\n",
       "      <th>1</th>\n",
       "      <td>Data Science</td>\n",
       "      <td>11 hours ago</td>\n",
       "      <td>Hi,Greetings from Conch Technologies IncPositi...</td>\n",
       "      <td>Engineering and Information Technology</td>\n",
       "      <td>IT Services and IT Consulting</td>\n",
       "    </tr>\n",
       "    <tr>\n",
       "      <th>2</th>\n",
       "      <td>Data Science</td>\n",
       "      <td>1 day ago</td>\n",
       "      <td>Hi,Greetings from Conch Technologies IncPositi...</td>\n",
       "      <td>Engineering and Information Technology</td>\n",
       "      <td>IT Services and IT Consulting</td>\n",
       "    </tr>\n",
       "    <tr>\n",
       "      <th>3</th>\n",
       "      <td>Junior Data Scientist</td>\n",
       "      <td>17 hours ago</td>\n",
       "      <td>This is a remote position. Junior Data Scienti...</td>\n",
       "      <td>Information Technology</td>\n",
       "      <td>Software Development</td>\n",
       "    </tr>\n",
       "    <tr>\n",
       "      <th>4</th>\n",
       "      <td>Data Scientist</td>\n",
       "      <td>41 minutes ago</td>\n",
       "      <td>DATA SCIENTIST 5TECHNOLOGY COMPANY ROLE IS REM...</td>\n",
       "      <td>Consulting</td>\n",
       "      <td>IT Services and IT Consulting</td>\n",
       "    </tr>\n",
       "  </tbody>\n",
       "</table>\n",
       "</div>"
      ],
      "text/plain": [
       "                   job_title        job_post  \\\n",
       "0  Machine Learning Engineer     3 hours ago   \n",
       "1               Data Science    11 hours ago   \n",
       "2               Data Science       1 day ago   \n",
       "3      Junior Data Scientist    17 hours ago   \n",
       "4             Data Scientist  41 minutes ago   \n",
       "\n",
       "                                     job_description  \\\n",
       "0  All below skills are must have skills: Experie...   \n",
       "1  Hi,Greetings from Conch Technologies IncPositi...   \n",
       "2  Hi,Greetings from Conch Technologies IncPositi...   \n",
       "3  This is a remote position. Junior Data Scienti...   \n",
       "4  DATA SCIENTIST 5TECHNOLOGY COMPANY ROLE IS REM...   \n",
       "\n",
       "                             job_function  \\\n",
       "0                  Information Technology   \n",
       "1  Engineering and Information Technology   \n",
       "2  Engineering and Information Technology   \n",
       "3                  Information Technology   \n",
       "4                              Consulting   \n",
       "\n",
       "                                        job_industry  \n",
       "0  Information Services and Technology, Informati...  \n",
       "1                      IT Services and IT Consulting  \n",
       "2                      IT Services and IT Consulting  \n",
       "3                               Software Development  \n",
       "4                      IT Services and IT Consulting  "
      ]
     },
     "execution_count": 13,
     "metadata": {},
     "output_type": "execute_result"
    }
   ],
   "source": [
    "# Load data\n",
    "df = pd.read_csv(\"../data/raw/test.csv\")\n",
    "df = df.drop_duplicates().reset_index(drop=True)\n",
    "df.head()"
   ]
  },
  {
   "cell_type": "markdown",
   "metadata": {},
   "source": [
    "# Create Annotation for The Training Data"
   ]
  },
  {
   "cell_type": "code",
   "execution_count": 68,
   "metadata": {},
   "outputs": [],
   "source": [
    "import spacy\n",
    "import json\n",
    "from spacy.tokens import DocBin\n",
    "\n",
    "with open(\"../data/interim/annotations.json\", \"r\") as f:\n",
    "    annotations_json = json.load(f)\n",
    "\n",
    "train_data = []\n",
    "for aj in annotations_json['annotations']:\n",
    "    train_data.append((aj[0], aj[1]))\n",
    "\n",
    "\n",
    "nlp = spacy.blank('en')\n",
    "db = DocBin()\n",
    "for text, annotations in train_data[:-7]:\n",
    "    doc = nlp(text)\n",
    "    ents = []\n",
    "    for start, end, label in annotations['entities']:\n",
    "        span = doc.char_span(start, end, label=label)\n",
    "        ents.append(span)\n",
    "    doc.ents = ents\n",
    "    db.add(doc)\n",
    "db.to_disk(\"../data/processed/train.spacy\")\n",
    "\n",
    "nlp = spacy.blank('en')\n",
    "db = DocBin()\n",
    "for text, annotations in train_data[-3:]:\n",
    "    doc = nlp(text)\n",
    "    ents = []\n",
    "    for start, end, label in annotations['entities']:\n",
    "        span = doc.char_span(start, end, label=label)\n",
    "        ents.append(span)\n",
    "    doc.ents = ents\n",
    "    db.add(doc)\n",
    "db.to_disk(\"../data/processed/dev.spacy\")"
   ]
  },
  {
   "cell_type": "markdown",
   "metadata": {},
   "source": [
    "# Test Model"
   ]
  },
  {
   "cell_type": "code",
   "execution_count": 77,
   "metadata": {},
   "outputs": [
    {
     "name": "stderr",
     "output_type": "stream",
     "text": [
      "10it [00:01,  7.90it/s]\n"
     ]
    }
   ],
   "source": [
    "nlp = spacy.load(\"en_core_web_md\")\n",
    "# disabled_pipes = [pipe for pipe in nlp.pipe_names if pipe not in ['tokenizer', 'tagger', 'lemmatizer', 'attribute_ruler']]\n",
    "# for pipe in disabled_pipes:\n",
    "#     nlp.disable_pipe(pipe)\n",
    "\n",
    "# Text Preprocessing\n",
    "# 1. Remove Stop Words and Punctuations\n",
    "def preprocess_job_desc(text):\n",
    "    text = re.sub(\"<[^>]+>\", \" \", text)  # remove html element tags\n",
    "    text = re.sub(\"[ ]+\", \" \", text)  # remove long spaces\n",
    "    text = text.lower()  # transform to lower case\n",
    "    text = text.strip()\n",
    "    doc = nlp(text)\n",
    "    return \" \".join([word.text for word in doc if word.is_alpha])\n",
    "\n",
    "texts = []\n",
    "for i, row in tqdm(df.iterrows()):\n",
    "    if i == 10:\n",
    "        break\n",
    "    texts.append(preprocess_job_desc(row['job_description'])+\"\\n\")\n",
    "\n",
    "\n",
    "# with open(\"../data/interim/jobs.txt\", \"w\") as f:\n",
    "#     f.writelines(texts)"
   ]
  },
  {
   "cell_type": "code",
   "execution_count": 82,
   "metadata": {},
   "outputs": [],
   "source": [
    "best_model = spacy.load(\"../models/output/model-best\")\n",
    "doc = best_model(texts[-1])"
   ]
  },
  {
   "cell_type": "code",
   "execution_count": 83,
   "metadata": {},
   "outputs": [
    {
     "name": "stdout",
     "output_type": "stream",
     "text": [
      "python  >>>  PROGRAMMING LANGUAGES\n",
      "sql  >>>  PROGRAMMING LANGUAGES\n",
      "machine learning  >>>  KNOWLEDGE AND CONCEPTS\n",
      "machine learning  >>>  KNOWLEDGE AND CONCEPTS\n",
      "cloud platforms  >>>  KNOWLEDGE AND CONCEPTS\n",
      "machine learning coding skills  >>>  KNOWLEDGE AND CONCEPTS\n",
      "python  >>>  PROGRAMMING LANGUAGES\n",
      "machine learning  >>>  KNOWLEDGE AND CONCEPTS\n",
      "problem solving  >>>  SOFTSKILLS\n",
      "communication and collaboration skills  >>>  SOFTSKILLS\n",
      "any  >>>  TOOLS AND TECHNOLOGIES\n",
      "any  >>>  TOOLS AND TECHNOLOGIES\n"
     ]
    }
   ],
   "source": [
    "for ent in doc.ents:\n",
    "    print(ent.text, \" >>> \", ent.label_)"
   ]
  }
 ],
 "metadata": {
  "kernelspec": {
   "display_name": "nlp-tools",
   "language": "python",
   "name": "python3"
  },
  "language_info": {
   "codemirror_mode": {
    "name": "ipython",
    "version": 3
   },
   "file_extension": ".py",
   "mimetype": "text/x-python",
   "name": "python",
   "nbconvert_exporter": "python",
   "pygments_lexer": "ipython3",
   "version": "3.10.13"
  }
 },
 "nbformat": 4,
 "nbformat_minor": 2
}
