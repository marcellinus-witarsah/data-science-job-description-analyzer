{
 "cells": [
  {
   "cell_type": "code",
   "execution_count": 3,
   "metadata": {},
   "outputs": [],
   "source": [
    "import pandas as pd\n",
    "import re\n",
    "import spacy\n",
    "from tqdm import tqdm"
   ]
  },
  {
   "cell_type": "code",
   "execution_count": 10,
   "metadata": {},
   "outputs": [],
   "source": [
    "# Load data\n",
    "df = pd.read_csv(\"../data/raw/linkedin_jobs.csv\")"
   ]
  },
  {
   "cell_type": "code",
   "execution_count": 12,
   "metadata": {},
   "outputs": [],
   "source": [
    "nlp = spacy.load(\"en_core_web_sm\")\n",
    "disabled_pipes = [pipe for pipe in nlp.pipe_names if pipe not in ['tokenizer', 'tagger', 'lemmatizer', 'attribute_ruler']]\n",
    "for pipe in disabled_pipes:\n",
    "    nlp.disable_pipe(pipe)\n",
    "\n",
    "# Text Preprocessing\n",
    "# 1. Text Normalization\n",
    "df = df.map(lambda x: x.lower())\n",
    "df = df.drop_duplicates()\n",
    "\n",
    "# 2. Remove Stop Words and Punctuations\n",
    "def preprocess_text(text):\n",
    "    doc = nlp(text)\n",
    "    return \" \".join([word.lemma_ for word in doc if not word.is_stop and word.is_alpha])\n",
    "\n",
    "texts = []\n",
    "for i, row in tqdm(df.iterrows()):\n",
    "    texts.append(preprocess_text(row['job_description'])+\"\\n\")\n",
    "\n",
    "with open(\"../data/interim/jobs.txt\", \"w\") as f:\n",
    "    f.writelines(texts)"
   ]
  }
 ],
 "metadata": {
  "kernelspec": {
   "display_name": "nlp-tools",
   "language": "python",
   "name": "python3"
  },
  "language_info": {
   "codemirror_mode": {
    "name": "ipython",
    "version": 3
   },
   "file_extension": ".py",
   "mimetype": "text/x-python",
   "name": "python",
   "nbconvert_exporter": "python",
   "pygments_lexer": "ipython3",
   "version": "3.10.13"
  }
 },
 "nbformat": 4,
 "nbformat_minor": 2
}
